{
 "cells": [
  {
   "cell_type": "code",
   "execution_count": 36,
   "metadata": {},
   "outputs": [],
   "source": [
    "import pyspark\n",
    "from pyspark.sql import SparkSession"
   ]
  },
  {
   "cell_type": "code",
   "execution_count": 37,
   "metadata": {},
   "outputs": [],
   "source": [
    "spark = SparkSession.builder\\\n",
    "                    .appName(\"raw-processing\")\\\n",
    "                    .getOrCreate()"
   ]
  },
  {
   "cell_type": "code",
   "execution_count": 38,
   "metadata": {},
   "outputs": [
    {
     "data": {
      "text/html": [
       "\n",
       "            <div>\n",
       "                <p><b>SparkSession - in-memory</b></p>\n",
       "                \n",
       "        <div>\n",
       "            <p><b>SparkContext</b></p>\n",
       "\n",
       "            <p><a href=\"http://DITPL-LAP-63:4041\">Spark UI</a></p>\n",
       "\n",
       "            <dl>\n",
       "              <dt>Version</dt>\n",
       "                <dd><code>v3.5.3</code></dd>\n",
       "              <dt>Master</dt>\n",
       "                <dd><code>local[*]</code></dd>\n",
       "              <dt>AppName</dt>\n",
       "                <dd><code>raw-processing</code></dd>\n",
       "            </dl>\n",
       "        </div>\n",
       "        \n",
       "            </div>\n",
       "        "
      ],
      "text/plain": [
       "<pyspark.sql.session.SparkSession at 0x21130e06de0>"
      ]
     },
     "execution_count": 38,
     "metadata": {},
     "output_type": "execute_result"
    }
   ],
   "source": [
    "spark"
   ]
  },
  {
   "cell_type": "code",
   "execution_count": 39,
   "metadata": {},
   "outputs": [],
   "source": [
    "spark.sparkContext.setLogLevel(\"DEBUG\")\n"
   ]
  },
  {
   "cell_type": "code",
   "execution_count": 40,
   "metadata": {},
   "outputs": [],
   "source": [
    "from pyspark.sql import types as T\n",
    "from pyspark.sql import functions as F"
   ]
  },
  {
   "cell_type": "code",
   "execution_count": 41,
   "metadata": {},
   "outputs": [],
   "source": [
    "covid19_scehema = T.StructType([\n",
    "    T.StructField(\"Date_reported\", T.DateType(), True),\n",
    "    T.StructField(\"Country_code\", T.StringType(), True),\n",
    "    T.StructField(\"Country\", T.StringType(), True),\n",
    "    T.StructField(\"WHO_region\", T.StringType(), True),\n",
    "    T.StructField(\"New_cases\", T.IntegerType(), True),\n",
    "    T.StructField(\"Cumulative_cases\", T.IntegerType(), True),\n",
    "    T.StructField(\"New_deaths\", T.IntegerType(),True),\n",
    "    T.StructField(\"Cumulative_deaths\", T.IntegerType(), True)\n",
    "    \n",
    "])"
   ]
  },
  {
   "cell_type": "code",
   "execution_count": 42,
   "metadata": {},
   "outputs": [],
   "source": [
    "covid_19_df = spark.read.format(\"csv\")\\\n",
    "                            .option(\"header\",True)\\\n",
    "                            .option(\"schema\", covid19_scehema)\\\n",
    "                            .option(\"mode\",\"Failfast\")\\\n",
    "                                .load(\"../Raw data/WHO-COVID-19-global-daily-data.csv\")"
   ]
  },
  {
   "cell_type": "code",
   "execution_count": 43,
   "metadata": {},
   "outputs": [
    {
     "name": "stdout",
     "output_type": "stream",
     "text": [
      "+-------------+------------+----------+----------+---------+----------------+----------+-----------------+\n",
      "|Date_reported|Country_code|   Country|WHO_region|New_cases|Cumulative_cases|New_deaths|Cumulative_deaths|\n",
      "+-------------+------------+----------+----------+---------+----------------+----------+-----------------+\n",
      "|   2020-01-04|          AI|  Anguilla|       AMR|     NULL|               0|      NULL|                0|\n",
      "|   2020-01-04|          AZ|Azerbaijan|       EUR|     NULL|               0|      NULL|                0|\n",
      "|   2020-01-04|          BD|Bangladesh|      SEAR|        0|               0|         0|                0|\n",
      "|   2020-01-04|          BB|  Barbados|       AMR|     NULL|               0|      NULL|                0|\n",
      "+-------------+------------+----------+----------+---------+----------------+----------+-----------------+\n",
      "only showing top 4 rows\n",
      "\n"
     ]
    }
   ],
   "source": [
    "covid_19_df.show(4)"
   ]
  },
  {
   "cell_type": "code",
   "execution_count": 44,
   "metadata": {},
   "outputs": [
    {
     "name": "stdout",
     "output_type": "stream",
     "text": [
      "root\n",
      " |-- Date_reported: string (nullable = true)\n",
      " |-- Country_code: string (nullable = true)\n",
      " |-- Country: string (nullable = true)\n",
      " |-- WHO_region: string (nullable = true)\n",
      " |-- New_cases: string (nullable = true)\n",
      " |-- Cumulative_cases: string (nullable = true)\n",
      " |-- New_deaths: string (nullable = true)\n",
      " |-- Cumulative_deaths: string (nullable = true)\n",
      "\n"
     ]
    }
   ],
   "source": [
    "covid_19_df.printSchema()"
   ]
  },
  {
   "cell_type": "code",
   "execution_count": 45,
   "metadata": {},
   "outputs": [],
   "source": [
    "droped_duplicated_covid19_df = covid_19_df.dropDuplicates()"
   ]
  },
  {
   "cell_type": "code",
   "execution_count": 46,
   "metadata": {},
   "outputs": [],
   "source": [
    "dropped_column_covid19_df = droped_duplicated_covid19_df.drop(F.col(\"Country_code\"))"
   ]
  },
  {
   "cell_type": "code",
   "execution_count": 47,
   "metadata": {},
   "outputs": [
    {
     "name": "stdout",
     "output_type": "stream",
     "text": [
      "+-------------+--------------------+----------+---------+----------------+----------+-----------------+\n",
      "|Date_reported|             Country|WHO_region|New_cases|Cumulative_cases|New_deaths|Cumulative_deaths|\n",
      "+-------------+--------------------+----------+---------+----------------+----------+-----------------+\n",
      "|   2020-01-09|    Marshall Islands|       WPR|        0|               0|         0|                0|\n",
      "|   2020-01-09|    Papua New Guinea|       WPR|        0|               0|         0|                0|\n",
      "|   2020-01-14|                Fiji|       WPR|        0|               0|         0|                0|\n",
      "|   2020-01-18|Northern Mariana ...|       WPR|        0|               0|         0|                0|\n",
      "+-------------+--------------------+----------+---------+----------------+----------+-----------------+\n",
      "only showing top 4 rows\n",
      "\n"
     ]
    }
   ],
   "source": [
    "dropped_column_covid19_df.show(4)"
   ]
  },
  {
   "cell_type": "code",
   "execution_count": 48,
   "metadata": {},
   "outputs": [],
   "source": [
    "renamed_column_covid19_df = dropped_column_covid19_df.withColumnRenamed(\"Date_reported\",\"date_reported\")\\\n",
    "                                                        .withColumnRenamed(\"Country\",\"country\")\\\n",
    "                                                            .withColumnRenamed(\"WHO_region\", \"who_region\")\\\n",
    "                                                            .withColumnRenamed(\"New_cases\",\"new_cases\")\\\n",
    "                                                            .withColumnRenamed(\"Cumulative_cases\",\"cumulative_cases\")\\\n",
    "                                                            .withColumnRenamed(\"New_deaths\",\"new_deaths\")\\\n",
    "                                                            .withColumnRenamed(\"Cumulative_deaths\",\"cumulative_deaths\")"
   ]
  },
  {
   "cell_type": "code",
   "execution_count": 49,
   "metadata": {},
   "outputs": [
    {
     "name": "stdout",
     "output_type": "stream",
     "text": [
      "+-------------+------------------------+----------+---------+----------------+----------+-----------------+\n",
      "|date_reported|country                 |who_region|new_cases|cumulative_cases|new_deaths|cumulative_deaths|\n",
      "+-------------+------------------------+----------+---------+----------------+----------+-----------------+\n",
      "|2020-01-09   |Marshall Islands        |WPR       |0        |0               |0         |0                |\n",
      "|2020-01-09   |Papua New Guinea        |WPR       |0        |0               |0         |0                |\n",
      "|2020-01-14   |Fiji                    |WPR       |0        |0               |0         |0                |\n",
      "|2020-01-18   |Northern Mariana Islands|WPR       |0        |0               |0         |0                |\n",
      "|2020-01-23   |Brunei Darussalam       |WPR       |0        |0               |0         |0                |\n",
      "+-------------+------------------------+----------+---------+----------------+----------+-----------------+\n",
      "only showing top 5 rows\n",
      "\n"
     ]
    }
   ],
   "source": [
    "renamed_column_covid19_df.show(5, truncate=False)"
   ]
  },
  {
   "cell_type": "code",
   "execution_count": 50,
   "metadata": {},
   "outputs": [
    {
     "name": "stdout",
     "output_type": "stream",
     "text": [
      "root\n",
      " |-- date_reported: string (nullable = true)\n",
      " |-- country: string (nullable = true)\n",
      " |-- who_region: string (nullable = true)\n",
      " |-- new_cases: string (nullable = true)\n",
      " |-- cumulative_cases: string (nullable = true)\n",
      " |-- new_deaths: string (nullable = true)\n",
      " |-- cumulative_deaths: string (nullable = true)\n",
      "\n"
     ]
    }
   ],
   "source": [
    "renamed_column_covid19_df.printSchema()"
   ]
  },
  {
   "cell_type": "code",
   "execution_count": 51,
   "metadata": {},
   "outputs": [],
   "source": [
    "type_casted_covid19_df = renamed_column_covid19_df.withColumn(\"date_reported\", F.col(\"date_reported\").cast(T.DateType()))\\\n",
    "                                                  .withColumn(\"new_cases\", F.col(\"new_cases\").cast(T.IntegerType()))\\\n",
    "                                                   .withColumn(\"cumulative_cases\", F.col(\"cumulative_cases\").cast(T.IntegerType()))\\\n",
    "                                                    .withColumn(\"new_deaths\", F.col(\"new_deaths\").cast(T.IntegerType()))\\\n",
    "                                                    .withColumn(\"cumulative_deaths\", F.col(\"cumulative_deaths\").cast(T.IntegerType()))"
   ]
  },
  {
   "cell_type": "code",
   "execution_count": 52,
   "metadata": {},
   "outputs": [
    {
     "name": "stdout",
     "output_type": "stream",
     "text": [
      "root\n",
      " |-- date_reported: date (nullable = true)\n",
      " |-- country: string (nullable = true)\n",
      " |-- who_region: string (nullable = true)\n",
      " |-- new_cases: integer (nullable = true)\n",
      " |-- cumulative_cases: integer (nullable = true)\n",
      " |-- new_deaths: integer (nullable = true)\n",
      " |-- cumulative_deaths: integer (nullable = true)\n",
      "\n"
     ]
    }
   ],
   "source": [
    "type_casted_covid19_df.printSchema()"
   ]
  },
  {
   "cell_type": "code",
   "execution_count": 53,
   "metadata": {},
   "outputs": [],
   "source": [
    "trimmed_covid19_df = type_casted_covid19_df.withColumn(\"country\", F.trim(F.col(\"country\")))\\\n",
    "                                            .withColumn(\"who_region\", F.trim(F.col(\"who_region\")))\\\n",
    "                                            .withColumn(\"new_cases\", F.abs(F.col(\"new_cases\")))\\\n",
    "                                            .withColumn(\"cumulative_cases\", F.abs(F.col(\"cumulative_cases\")))\\\n",
    "                                            .withColumn(\"new_deaths\", F.abs(F.col(\"new_deaths\")))\\\n",
    "                                            .withColumn(\"cumulative_deaths\", F.abs(F.col(\"cumulative_deaths\")))"
   ]
  },
  {
   "cell_type": "code",
   "execution_count": null,
   "metadata": {},
   "outputs": [],
   "source": []
  },
  {
   "cell_type": "code",
   "execution_count": 54,
   "metadata": {},
   "outputs": [
    {
     "name": "stdout",
     "output_type": "stream",
     "text": [
      "+-------------+--------------------+----------+---------+----------------+----------+-----------------+\n",
      "|date_reported|             country|who_region|new_cases|cumulative_cases|new_deaths|cumulative_deaths|\n",
      "+-------------+--------------------+----------+---------+----------------+----------+-----------------+\n",
      "|   2020-01-09|    Marshall Islands|       WPR|        0|               0|         0|                0|\n",
      "|   2020-01-09|    Papua New Guinea|       WPR|        0|               0|         0|                0|\n",
      "|   2020-01-14|                Fiji|       WPR|        0|               0|         0|                0|\n",
      "|   2020-01-18|Northern Mariana ...|       WPR|        0|               0|         0|                0|\n",
      "+-------------+--------------------+----------+---------+----------------+----------+-----------------+\n",
      "only showing top 4 rows\n",
      "\n"
     ]
    }
   ],
   "source": [
    "trimmed_covid19_df.show(4)"
   ]
  },
  {
   "cell_type": "code",
   "execution_count": 55,
   "metadata": {},
   "outputs": [],
   "source": [
    "lowercase_covid19_df = trimmed_covid19_df.withColumn(\"country\", F.lower(F.col(\"country\")))\\\n",
    "                                         .withColumn(\"who_region\", F.lower(F.col(\"who_region\")))"
   ]
  },
  {
   "cell_type": "code",
   "execution_count": 56,
   "metadata": {},
   "outputs": [
    {
     "name": "stdout",
     "output_type": "stream",
     "text": [
      "+-------------+--------------------+----------+---------+----------------+----------+-----------------+\n",
      "|date_reported|             country|who_region|new_cases|cumulative_cases|new_deaths|cumulative_deaths|\n",
      "+-------------+--------------------+----------+---------+----------------+----------+-----------------+\n",
      "|   2020-01-09|    marshall islands|       wpr|        0|               0|         0|                0|\n",
      "|   2020-01-09|    papua new guinea|       wpr|        0|               0|         0|                0|\n",
      "|   2020-01-14|                fiji|       wpr|        0|               0|         0|                0|\n",
      "|   2020-01-18|northern mariana ...|       wpr|        0|               0|         0|                0|\n",
      "+-------------+--------------------+----------+---------+----------------+----------+-----------------+\n",
      "only showing top 4 rows\n",
      "\n"
     ]
    }
   ],
   "source": [
    "lowercase_covid19_df.show(4)"
   ]
  },
  {
   "cell_type": "code",
   "execution_count": 57,
   "metadata": {},
   "outputs": [],
   "source": [
    "fill_values = {\"new_cases\":0, \"cumulative_cases\":0,\"new_deaths\":0, \"cumulative_deaths\":0}"
   ]
  },
  {
   "cell_type": "code",
   "execution_count": 58,
   "metadata": {},
   "outputs": [],
   "source": [
    "filledna_covid19_df = lowercase_covid19_df.fillna(fill_values)"
   ]
  },
  {
   "cell_type": "code",
   "execution_count": 59,
   "metadata": {},
   "outputs": [
    {
     "name": "stdout",
     "output_type": "stream",
     "text": [
      "+-------------+----------------+----------+---------+----------------+----------+-----------------+\n",
      "|date_reported|         country|who_region|new_cases|cumulative_cases|new_deaths|cumulative_deaths|\n",
      "+-------------+----------------+----------+---------+----------------+----------+-----------------+\n",
      "|   2020-01-09|marshall islands|       wpr|        0|               0|         0|                0|\n",
      "+-------------+----------------+----------+---------+----------------+----------+-----------------+\n",
      "only showing top 1 row\n",
      "\n"
     ]
    }
   ],
   "source": [
    "filledna_covid19_df.show(1)"
   ]
  },
  {
   "cell_type": "code",
   "execution_count": 60,
   "metadata": {},
   "outputs": [],
   "source": [
    "# filledna_covid19_df.write.format(\"csv\")\\\n",
    "#                           .mode(\"overwrite\")\\\n",
    "#                           .save(\"../Processed data/covid19_data\")"
   ]
  },
  {
   "cell_type": "code",
   "execution_count": 61,
   "metadata": {},
   "outputs": [
    {
     "data": {
      "text/plain": [
       "8"
      ]
     },
     "execution_count": 61,
     "metadata": {},
     "output_type": "execute_result"
    }
   ],
   "source": [
    "filledna_covid19_df.rdd.getNumPartitions()\n"
   ]
  },
  {
   "cell_type": "code",
   "execution_count": 62,
   "metadata": {},
   "outputs": [],
   "source": [
    "import psycopg2"
   ]
  },
  {
   "cell_type": "code",
   "execution_count": 68,
   "metadata": {},
   "outputs": [],
   "source": [
    "connection = psycopg2.connect(\n",
    "    host= \"localhost\",\n",
    "    database=\"covid19\",\n",
    "    user = \"postgres\",\n",
    "    password = \"1234\",\n",
    "    port = 5432\n",
    ")"
   ]
  },
  {
   "cell_type": "code",
   "execution_count": 69,
   "metadata": {},
   "outputs": [],
   "source": [
    "cursor = connection.cursor()"
   ]
  },
  {
   "cell_type": "code",
   "execution_count": 70,
   "metadata": {},
   "outputs": [],
   "source": [
    "cursor.execute(\"delete from processed_coviD19\")\n",
    "connection.commit()"
   ]
  },
  {
   "cell_type": "code",
   "execution_count": 71,
   "metadata": {},
   "outputs": [],
   "source": [
    "cursor.execute(\"\"\"\n",
    "               CREATE TABLE IF NOT EXISTS processed_coviD19(\n",
    "                   id serial primary key ,\n",
    "                   date_reported date,\n",
    "                   country varchar(255),\n",
    "                   who_region varchar(255),\n",
    "                   new_cases int,\n",
    "                   cumulative_cases int,\n",
    "                   new_deaths int,\n",
    "                   cumulative_deaths int                   \n",
    "                   );\n",
    "                   \"\"\")"
   ]
  },
  {
   "cell_type": "code",
   "execution_count": 72,
   "metadata": {},
   "outputs": [],
   "source": [
    "connection.commit()"
   ]
  },
  {
   "cell_type": "code",
   "execution_count": 73,
   "metadata": {},
   "outputs": [],
   "source": [
    "insert_query = \"\"\"INSERT into processed_covid19(date_reported, country, who_region, new_cases, cumulative_cases, new_deaths, cumulative_deaths)\n",
    "                VALUES (%s, %s, %s, %s, %s, %s, %s);\"\"\""
   ]
  },
  {
   "cell_type": "code",
   "execution_count": 74,
   "metadata": {},
   "outputs": [],
   "source": [
    "for row in filledna_covid19_df.collect():\n",
    "    cursor.execute(insert_query, (\n",
    "        row['date_reported'],\n",
    "        row['country'],\n",
    "        row['who_region'],\n",
    "        row['new_cases'],\n",
    "        row['cumulative_cases'],\n",
    "        row['new_deaths'],\n",
    "        row['cumulative_deaths']\n",
    "    ))"
   ]
  },
  {
   "cell_type": "code",
   "execution_count": 75,
   "metadata": {},
   "outputs": [],
   "source": [
    "connection.commit()"
   ]
  },
  {
   "cell_type": "code",
   "execution_count": 76,
   "metadata": {},
   "outputs": [],
   "source": [
    "cursor.close()"
   ]
  },
  {
   "cell_type": "code",
   "execution_count": 77,
   "metadata": {},
   "outputs": [],
   "source": [
    "connection.close()"
   ]
  },
  {
   "cell_type": "code",
   "execution_count": null,
   "metadata": {},
   "outputs": [],
   "source": []
  },
  {
   "cell_type": "code",
   "execution_count": null,
   "metadata": {},
   "outputs": [],
   "source": []
  }
 ],
 "metadata": {
  "kernelspec": {
   "display_name": "Python 3",
   "language": "python",
   "name": "python3"
  },
  "language_info": {
   "codemirror_mode": {
    "name": "ipython",
    "version": 3
   },
   "file_extension": ".py",
   "mimetype": "text/x-python",
   "name": "python",
   "nbconvert_exporter": "python",
   "pygments_lexer": "ipython3",
   "version": "3.12.3"
  }
 },
 "nbformat": 4,
 "nbformat_minor": 2
}
